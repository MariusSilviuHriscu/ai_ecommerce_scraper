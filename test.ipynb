{
 "cells": [
  {
   "cell_type": "code",
   "execution_count": 1,
   "metadata": {},
   "outputs": [],
   "source": [
    "with open('api.txt','r') as r:\n",
    "    TEXT = r.read()"
   ]
  },
  {
   "cell_type": "code",
   "execution_count": 2,
   "metadata": {},
   "outputs": [],
   "source": [
    "from ecommerce.src_base_scraper.scraper_builder import ScraperManagerBuilder\n",
    "from ecommerce.src_base_scraper.requests_handler import RequestsHandler\n",
    "from ecommerce.scraper_data.functions import get_pages,get_product,get_product_data"
   ]
  },
  {
   "cell_type": "code",
   "execution_count": 3,
   "metadata": {},
   "outputs": [],
   "source": [
    "handler = RequestsHandler.create_instance(None)\n",
    "builder = ScraperManagerBuilder(requests_handler = handler,\n",
    "                      initial_url='https://www.dedeman.ro/ro/mobilier-birou/c/96',\n",
    "                      initial_node_function = get_pages,\n",
    "                      node_functions=[get_product],\n",
    "                      product_functions = get_product_data\n",
    "                      )"
   ]
  },
  {
   "cell_type": "code",
   "execution_count": 4,
   "metadata": {},
   "outputs": [],
   "source": [
    "scraper = builder.build()"
   ]
  },
  {
   "cell_type": "code",
   "execution_count": 5,
   "metadata": {},
   "outputs": [],
   "source": [
    "a = scraper.get_data(parallel_processing_flag=True,depth_parallelism=0)"
   ]
  },
  {
   "cell_type": "code",
   "execution_count": 6,
   "metadata": {},
   "outputs": [],
   "source": [
    "from ecommerce.data_parsing.iterator_parser import EcommerceFuncGenerator"
   ]
  },
  {
   "cell_type": "code",
   "execution_count": 17,
   "metadata": {},
   "outputs": [],
   "source": [
    "scrfunc = EcommerceFuncGenerator(requests_handler=handler,\n",
    "                                 first_url = 'https://www.drmax.ro/remedii-naturiste/sistemul-imunitar?page={2}',\n",
    "                                 max_page = 10\n",
    "                                 )"
   ]
  },
  {
   "cell_type": "code",
   "execution_count": 18,
   "metadata": {},
   "outputs": [],
   "source": [
    "func = scrfunc.generate_url_function()"
   ]
  },
  {
   "cell_type": "code",
   "execution_count": 19,
   "metadata": {},
   "outputs": [
    {
     "data": {
      "text/plain": [
       "['https://www.drmax.ro/remedii-naturiste/sistemul-imunitar?page=1',\n",
       " 'https://www.drmax.ro/remedii-naturiste/sistemul-imunitar?page=2',\n",
       " 'https://www.drmax.ro/remedii-naturiste/sistemul-imunitar?page=3',\n",
       " 'https://www.drmax.ro/remedii-naturiste/sistemul-imunitar?page=4',\n",
       " 'https://www.drmax.ro/remedii-naturiste/sistemul-imunitar?page=5',\n",
       " 'https://www.drmax.ro/remedii-naturiste/sistemul-imunitar?page=6',\n",
       " 'https://www.drmax.ro/remedii-naturiste/sistemul-imunitar?page=7',\n",
       " 'https://www.drmax.ro/remedii-naturiste/sistemul-imunitar?page=8',\n",
       " 'https://www.drmax.ro/remedii-naturiste/sistemul-imunitar?page=9',\n",
       " 'https://www.drmax.ro/remedii-naturiste/sistemul-imunitar?page=10']"
      ]
     },
     "execution_count": 19,
     "metadata": {},
     "output_type": "execute_result"
    }
   ],
   "source": [
    "list(func(''))"
   ]
  }
 ],
 "metadata": {
  "kernelspec": {
   "display_name": ".venv",
   "language": "python",
   "name": "python3"
  },
  "language_info": {
   "codemirror_mode": {
    "name": "ipython",
    "version": 3
   },
   "file_extension": ".py",
   "mimetype": "text/x-python",
   "name": "python",
   "nbconvert_exporter": "python",
   "pygments_lexer": "ipython3",
   "version": "3.11.4"
  }
 },
 "nbformat": 4,
 "nbformat_minor": 2
}
