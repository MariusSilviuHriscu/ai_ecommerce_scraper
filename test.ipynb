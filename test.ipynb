{
 "cells": [
  {
   "cell_type": "code",
   "execution_count": 1,
   "metadata": {},
   "outputs": [],
   "source": [
    "with open('api.txt','r') as r:\n",
    "    TEXT = r.read()"
   ]
  },
  {
   "cell_type": "code",
   "execution_count": 2,
   "metadata": {},
   "outputs": [],
   "source": [
    "from ecommerce.src_base_scraper.scraper_builder import ScraperManagerBuilder\n",
    "from ecommerce.src_base_scraper.requests_handler import RequestsHandler\n",
    "from ecommerce.scraper_data.functions import get_pages,get_product,get_product_data"
   ]
  },
  {
   "cell_type": "code",
   "execution_count": 3,
   "metadata": {},
   "outputs": [],
   "source": [
    "from ecommerce.data_parsing.iterator_parser import EcommerceFuncGenerator"
   ]
  },
  {
   "cell_type": "code",
   "execution_count": 4,
   "metadata": {},
   "outputs": [],
   "source": [
    "handler = RequestsHandler.create_instance(None)\n",
    "scrfunc = EcommerceFuncGenerator(requests_handler=handler,\n",
    "                                 first_url = 'https://fragrancewholesale.co.uk/collections/chatler?page={2}',\n",
    "                                 max_page = 6\n",
    "                                 )\n",
    "func = scrfunc.generate_url_function()\n",
    "builder = ScraperManagerBuilder(requests_handler = handler,\n",
    "                      initial_url='https://fragrancewholesale.co.uk/collections/chatler?page=1',\n",
    "                      initial_node_function = get_pages,\n",
    "                      node_functions=[get_product],\n",
    "                      product_functions = get_product_data\n",
    "                      )"
   ]
  },
  {
   "cell_type": "code",
   "execution_count": 5,
   "metadata": {},
   "outputs": [],
   "source": [
    "scraper = builder.build()"
   ]
  },
  {
   "cell_type": "code",
   "execution_count": 6,
   "metadata": {},
   "outputs": [],
   "source": [
    "a = scraper.get_data(parallel_processing_flag=False)"
   ]
  },
  {
   "cell_type": "code",
   "execution_count": 7,
   "metadata": {},
   "outputs": [],
   "source": [
    "from ecommerce.src_base_scraper.product_info import ProductData"
   ]
  },
  {
   "cell_type": "code",
   "execution_count": 8,
   "metadata": {},
   "outputs": [],
   "source": [
    "import sqlite3\n",
    "from typing import Generator\n",
    "\n",
    "# Your existing code for ProductInfo and ProductData here\n",
    "\n",
    "def generate_table_sql(product_data: ProductData) -> str:\n",
    "    \"\"\"Generate the CREATE TABLE SQL statement based on the keys of product_info.\"\"\"\n",
    "    table_columns = ', '.join(f'{key} TEXT' for key in product_data.product_info_keys)\n",
    "    return f'''\n",
    "        CREATE TABLE IF NOT EXISTS product_table (\n",
    "            id INTEGER PRIMARY KEY AUTOINCREMENT,\n",
    "            url TEXT,\n",
    "            raw_text_response TEXT,\n",
    "            {table_columns}\n",
    "        )\n",
    "    '''\n",
    "\n",
    "def convert_tag_to_string(tag):\n",
    "    \"\"\"Convert Tag object to a suitable string representation.\"\"\"\n",
    "    # Adjust this function based on the structure of your Tag object\n",
    "    return str(tag)\n",
    "\n",
    "def save_to_database(generator: Generator[ProductData, None, None], database_path: str):\n",
    "    connection = sqlite3.connect(database_path)\n",
    "    cursor = connection.cursor()\n",
    "\n",
    "    for product_data in generator:\n",
    "        # Convert Tag objects to strings or another suitable representation\n",
    "        product_info_values = [convert_tag_to_string(value) for value in product_data.product_info.values()]\n",
    "\n",
    "        # Generate CREATE TABLE SQL statement based on the keys of product_info\n",
    "        create_table_sql = generate_table_sql(product_data)\n",
    "        cursor.execute(create_table_sql)\n",
    "\n",
    "        # Insert data into the database\n",
    "        cursor.execute('''\n",
    "            INSERT INTO product_table (url, raw_text_response, {}) VALUES (?, ?, {})\n",
    "        '''.format(', '.join(product_data.product_info_keys), ', '.join(['?'] * len(product_data.product_info_keys))),\n",
    "        (product_data.url, product_data.raw_text_response, *product_info_values))\n",
    "\n",
    "    connection.commit()\n",
    "    connection.close()\n",
    "\n",
    "# Example usage:\n",
    "# Assuming you have a generator named product_generator\n",
    "# and you want to save the data to a SQLite database named 'products.db'\n"
   ]
  },
  {
   "cell_type": "code",
   "execution_count": 9,
   "metadata": {},
   "outputs": [],
   "source": [
    "#save_to_database(a,'products2.db')"
   ]
  },
  {
   "cell_type": "code",
   "execution_count": 10,
   "metadata": {},
   "outputs": [
    {
     "ename": "RuntimeError",
     "evalue": "Cannot run the event loop while another loop is running",
     "output_type": "error",
     "traceback": [
      "\u001b[1;31m---------------------------------------------------------------------------\u001b[0m",
      "\u001b[1;31mRuntimeError\u001b[0m                              Traceback (most recent call last)",
      "Cell \u001b[1;32mIn[10], line 48\u001b[0m\n\u001b[0;32m     45\u001b[0m asyncio\u001b[38;5;241m.\u001b[39mset_event_loop(loop)\n\u001b[0;32m     47\u001b[0m \u001b[38;5;66;03m# Run the coroutine within the new event loop\u001b[39;00m\n\u001b[1;32m---> 48\u001b[0m \u001b[43mloop\u001b[49m\u001b[38;5;241;43m.\u001b[39;49m\u001b[43mrun_until_complete\u001b[49m\u001b[43m(\u001b[49m\u001b[43mdownload_all_urls\u001b[49m\u001b[43m(\u001b[49m\u001b[43murls_generator\u001b[49m\u001b[43m,\u001b[49m\u001b[43m \u001b[49m\u001b[43mdestination_folder\u001b[49m\u001b[43m)\u001b[49m\u001b[43m)\u001b[49m\n",
      "File \u001b[1;32m~\\AppData\\Local\\Programs\\Python\\Python311\\Lib\\asyncio\\base_events.py:629\u001b[0m, in \u001b[0;36mBaseEventLoop.run_until_complete\u001b[1;34m(self, future)\u001b[0m\n\u001b[0;32m    618\u001b[0m \u001b[38;5;250m\u001b[39m\u001b[38;5;124;03m\"\"\"Run until the Future is done.\u001b[39;00m\n\u001b[0;32m    619\u001b[0m \n\u001b[0;32m    620\u001b[0m \u001b[38;5;124;03mIf the argument is a coroutine, it is wrapped in a Task.\u001b[39;00m\n\u001b[1;32m   (...)\u001b[0m\n\u001b[0;32m    626\u001b[0m \u001b[38;5;124;03mReturn the Future's result, or raise its exception.\u001b[39;00m\n\u001b[0;32m    627\u001b[0m \u001b[38;5;124;03m\"\"\"\u001b[39;00m\n\u001b[0;32m    628\u001b[0m \u001b[38;5;28mself\u001b[39m\u001b[38;5;241m.\u001b[39m_check_closed()\n\u001b[1;32m--> 629\u001b[0m \u001b[38;5;28;43mself\u001b[39;49m\u001b[38;5;241;43m.\u001b[39;49m\u001b[43m_check_running\u001b[49m\u001b[43m(\u001b[49m\u001b[43m)\u001b[49m\n\u001b[0;32m    631\u001b[0m new_task \u001b[38;5;241m=\u001b[39m \u001b[38;5;129;01mnot\u001b[39;00m futures\u001b[38;5;241m.\u001b[39misfuture(future)\n\u001b[0;32m    632\u001b[0m future \u001b[38;5;241m=\u001b[39m tasks\u001b[38;5;241m.\u001b[39mensure_future(future, loop\u001b[38;5;241m=\u001b[39m\u001b[38;5;28mself\u001b[39m)\n",
      "File \u001b[1;32m~\\AppData\\Local\\Programs\\Python\\Python311\\Lib\\asyncio\\base_events.py:590\u001b[0m, in \u001b[0;36mBaseEventLoop._check_running\u001b[1;34m(self)\u001b[0m\n\u001b[0;32m    588\u001b[0m     \u001b[38;5;28;01mraise\u001b[39;00m \u001b[38;5;167;01mRuntimeError\u001b[39;00m(\u001b[38;5;124m'\u001b[39m\u001b[38;5;124mThis event loop is already running\u001b[39m\u001b[38;5;124m'\u001b[39m)\n\u001b[0;32m    589\u001b[0m \u001b[38;5;28;01mif\u001b[39;00m events\u001b[38;5;241m.\u001b[39m_get_running_loop() \u001b[38;5;129;01mis\u001b[39;00m \u001b[38;5;129;01mnot\u001b[39;00m \u001b[38;5;28;01mNone\u001b[39;00m:\n\u001b[1;32m--> 590\u001b[0m     \u001b[38;5;28;01mraise\u001b[39;00m \u001b[38;5;167;01mRuntimeError\u001b[39;00m(\n\u001b[0;32m    591\u001b[0m         \u001b[38;5;124m'\u001b[39m\u001b[38;5;124mCannot run the event loop while another loop is running\u001b[39m\u001b[38;5;124m'\u001b[39m)\n",
      "\u001b[1;31mRuntimeError\u001b[0m: Cannot run the event loop while another loop is running"
     ]
    }
   ],
   "source": [
    "import aiohttp\n",
    "import asyncio\n",
    "import os\n",
    "\n",
    "async def download_url(session, url, destination_folder):\n",
    "    try:\n",
    "        async with session.get(url) as response:\n",
    "            if response.status == 200:\n",
    "                # Extract the filename from the URL\n",
    "                filename = os.path.join(destination_folder, url.split(\"/\")[-1])\n",
    "                async with aiofiles.open(filename, 'wb') as file:\n",
    "                    content = await response.read()\n",
    "                    await file.write(content)\n",
    "                    print(f\"Downloaded: {url}\")\n",
    "            else:\n",
    "                print(f\"Failed to download: {url} (Status Code: {response.status})\")\n",
    "    except Exception as e:\n",
    "        print(f\"Error downloading {url}: {str(e)}\")\n",
    "\n",
    "async def download_all_urls(urls, destination_folder):\n",
    "    async with aiohttp.ClientSession() as session:\n",
    "        tasks = [download_url(session, url, destination_folder) for url in urls]\n",
    "        await asyncio.gather(*tasks)\n",
    "\n",
    "if __name__ == \"__main__\":\n",
    "    # Example usage\n",
    "    urls_generator = (i.product_info.get('image') for i in a)\n",
    "    destination_folder = \"downloads\"\n",
    "\n",
    "    # Ensure the destination folder exists\n",
    "    os.makedirs(destination_folder, exist_ok=True)\n",
    "    loop = asyncio.get_event_loop()\n",
    "    loop.run_until_complete(download_all_urls(urls_generator, destination_folder))\n"
   ]
  }
 ],
 "metadata": {
  "kernelspec": {
   "display_name": ".venv",
   "language": "python",
   "name": "python3"
  },
  "language_info": {
   "codemirror_mode": {
    "name": "ipython",
    "version": 3
   },
   "file_extension": ".py",
   "mimetype": "text/x-python",
   "name": "python",
   "nbconvert_exporter": "python",
   "pygments_lexer": "ipython3",
   "version": "3.11.4"
  }
 },
 "nbformat": 4,
 "nbformat_minor": 2
}
