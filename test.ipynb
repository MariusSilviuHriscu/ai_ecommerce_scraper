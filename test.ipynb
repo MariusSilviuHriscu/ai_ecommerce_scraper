{
 "cells": [
  {
   "cell_type": "code",
   "execution_count": 1,
   "metadata": {},
   "outputs": [],
   "source": [
    "with open('api.txt','r') as r:\n",
    "    TEXT = r.read()"
   ]
  },
  {
   "cell_type": "code",
   "execution_count": 2,
   "metadata": {},
   "outputs": [],
   "source": [
    "from ecommerce.src_base_scraper.scraper_builder import ScraperManagerBuilder\n",
    "from ecommerce.src_base_scraper.requests_handler import RequestsHandler\n",
    "from ecommerce.scraper_data.functions import get_pages,get_product,get_product_data"
   ]
  },
  {
   "cell_type": "code",
   "execution_count": 3,
   "metadata": {},
   "outputs": [],
   "source": [
    "handler = RequestsHandler.create_instance(None)\n",
    "builder = ScraperManagerBuilder(requests_handler = handler,\n",
    "                      initial_url='https://www.dedeman.ro/ro/hote-bucatarie-si-accesorii/c/669',\n",
    "                      initial_node_function = get_pages,\n",
    "                      node_functions=[get_product],\n",
    "                      product_functions = get_product_data\n",
    "                      )"
   ]
  },
  {
   "cell_type": "code",
   "execution_count": 4,
   "metadata": {},
   "outputs": [],
   "source": [
    "scraper = builder.build()"
   ]
  },
  {
   "cell_type": "code",
   "execution_count": 5,
   "metadata": {},
   "outputs": [],
   "source": [
    "a = scraper.current_final_node.get_data()"
   ]
  },
  {
   "cell_type": "code",
   "execution_count": 6,
   "metadata": {},
   "outputs": [],
   "source": [
    "from concurrent.futures import ThreadPoolExecutor"
   ]
  },
  {
   "cell_type": "code",
   "execution_count": 7,
   "metadata": {},
   "outputs": [],
   "source": [
    "from concurrent.futures import ThreadPoolExecutor\n",
    "from typing import Generator, Any\n",
    "\n",
    "def process_generator(generator: Generator[Any, None, None], process_func, max_workers: int = 5) -> Generator[Any, None, None]:\n",
    "    \"\"\"\n",
    "    Process a generator using ThreadPoolExecutor and return a new generator with the processed data in order.\n",
    "\n",
    "    Parameters:\n",
    "    - generator: Input generator to be processed.\n",
    "    - process_func: The function to process each element of the generator.\n",
    "    - max_workers: Maximum number of worker threads in the ThreadPoolExecutor.\n",
    "\n",
    "    Returns:\n",
    "    - Generator of processed data in the original order.\n",
    "    \"\"\"\n",
    "    with ThreadPoolExecutor(max_workers=max_workers) as executor:\n",
    "        # Function to submit a task to the executor\n",
    "        def submit_task(item):\n",
    "            return executor.submit(process_func, item)\n",
    "\n",
    "        # Submit tasks for each element in the input generator\n",
    "        futures = [submit_task(item) for item in generator]\n",
    "\n",
    "        # Yield results in the order of the original input\n",
    "        for future in futures:\n",
    "            yield future.result()"
   ]
  },
  {
   "cell_type": "code",
   "execution_count": 8,
   "metadata": {},
   "outputs": [
    {
     "ename": "TypeError",
     "evalue": "process_generator() missing 1 required positional argument: 'process_func'",
     "output_type": "error",
     "traceback": [
      "\u001b[1;31m---------------------------------------------------------------------------\u001b[0m",
      "\u001b[1;31mTypeError\u001b[0m                                 Traceback (most recent call last)",
      "\u001b[1;32mc:\\Users\\Victor\\Documents\\GitHub\\ai_ecommerce_scraper\\test.ipynb Cell 8\u001b[0m line \u001b[0;36m1\n\u001b[1;32m----> <a href='vscode-notebook-cell:/c%3A/Users/Victor/Documents/GitHub/ai_ecommerce_scraper/test.ipynb#X12sZmlsZQ%3D%3D?line=0'>1</a>\u001b[0m new \u001b[39m=\u001b[39m process_generator(generator\u001b[39m=\u001b[39;49ma)\n",
      "\u001b[1;31mTypeError\u001b[0m: process_generator() missing 1 required positional argument: 'process_func'"
     ]
    }
   ],
   "source": [
    "new = process_generator(generator=a)"
   ]
  },
  {
   "cell_type": "code",
   "execution_count": null,
   "metadata": {},
   "outputs": [],
   "source": [
    "for i in new :\n",
    "    print(i)"
   ]
  }
 ],
 "metadata": {
  "kernelspec": {
   "display_name": ".venv",
   "language": "python",
   "name": "python3"
  },
  "language_info": {
   "codemirror_mode": {
    "name": "ipython",
    "version": 3
   },
   "file_extension": ".py",
   "mimetype": "text/x-python",
   "name": "python",
   "nbconvert_exporter": "python",
   "pygments_lexer": "ipython3",
   "version": "3.11.4"
  }
 },
 "nbformat": 4,
 "nbformat_minor": 2
}
