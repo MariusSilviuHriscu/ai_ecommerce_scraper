{
 "cells": [
  {
   "cell_type": "code",
   "execution_count": 1,
   "metadata": {},
   "outputs": [],
   "source": [
    "with open('api.txt','r') as r:\n",
    "    TEXT = r.read()"
   ]
  },
  {
   "cell_type": "code",
   "execution_count": 2,
   "metadata": {},
   "outputs": [],
   "source": [
    "from ecommerce.src_base_scraper.scraper_builder import ScraperManagerBuilder\n",
    "from ecommerce.src_base_scraper.requests_handler import RequestsHandler\n",
    "from ecommerce.scraper_data.functions import get_pages,get_product,get_product_data"
   ]
  },
  {
   "cell_type": "code",
   "execution_count": 3,
   "metadata": {},
   "outputs": [],
   "source": [
    "from ecommerce.data_parsing.iterator_parser import EcommerceFuncGenerator"
   ]
  },
  {
   "cell_type": "code",
   "execution_count": 4,
   "metadata": {},
   "outputs": [],
   "source": [
    "handler = RequestsHandler.create_instance(None)\n",
    "scrfunc = EcommerceFuncGenerator(requests_handler=handler,\n",
    "                                 first_url = 'https://fragrancewholesale.co.uk/collections/chatler?page={2}',\n",
    "                                 max_page = 6\n",
    "                                 )\n",
    "func = scrfunc.generate_url_function()\n",
    "builder = ScraperManagerBuilder(requests_handler = handler,\n",
    "                      initial_url='https://fragrancewholesale.co.uk/collections/chatler?page=1',\n",
    "                      initial_node_function = get_pages,\n",
    "                      node_functions=[get_product],\n",
    "                      product_functions = get_product_data\n",
    "                      )"
   ]
  },
  {
   "cell_type": "code",
   "execution_count": 5,
   "metadata": {},
   "outputs": [],
   "source": [
    "scraper = builder.build()"
   ]
  },
  {
   "cell_type": "code",
   "execution_count": 6,
   "metadata": {},
   "outputs": [],
   "source": [
    "a = scraper.get_data(parallel_processing_flag=False)"
   ]
  },
  {
   "cell_type": "code",
   "execution_count": 7,
   "metadata": {},
   "outputs": [],
   "source": [
    "from ecommerce.src_base_scraper.product_info import ProductData"
   ]
  },
  {
   "cell_type": "code",
   "execution_count": 8,
   "metadata": {},
   "outputs": [],
   "source": [
    "import sqlite3\n",
    "from typing import Generator\n",
    "\n",
    "# Your existing code for ProductInfo and ProductData here\n",
    "\n",
    "def generate_table_sql(product_data: ProductData) -> str:\n",
    "    \"\"\"Generate the CREATE TABLE SQL statement based on the keys of product_info.\"\"\"\n",
    "    table_columns = ', '.join(f'{key} TEXT' for key in product_data.product_info_keys)\n",
    "    return f'''\n",
    "        CREATE TABLE IF NOT EXISTS product_table (\n",
    "            id INTEGER PRIMARY KEY AUTOINCREMENT,\n",
    "            url TEXT,\n",
    "            raw_text_response TEXT,\n",
    "            {table_columns}\n",
    "        )\n",
    "    '''\n",
    "\n",
    "def save_to_database(generator: Generator[ProductData, None, None], database_path: str):\n",
    "    connection = sqlite3.connect(database_path)\n",
    "    cursor = connection.cursor()\n",
    "\n",
    "    for product_data in generator:\n",
    "        # Generate CREATE TABLE SQL statement based on the keys of product_info\n",
    "        create_table_sql = generate_table_sql(product_data)\n",
    "        cursor.execute(create_table_sql)\n",
    "\n",
    "        # Insert data into the database\n",
    "        cursor.execute('''\n",
    "            INSERT INTO product_table (url, raw_text_response, {}) VALUES (?, ?, {})\n",
    "        '''.format(', '.join(product_data.product_info_keys), ', '.join(['?'] * len(product_data.product_info_keys))),\n",
    "        (product_data.url, product_data.raw_text_response, *product_data.product_info.values()))\n",
    "\n",
    "    connection.commit()\n",
    "    connection.close()\n",
    "\n",
    "# Example usage:\n",
    "# Assuming you have a generator named product_generator\n",
    "# and you want to save the data to a SQLite database named 'products.db'\n"
   ]
  },
  {
   "cell_type": "code",
   "execution_count": 9,
   "metadata": {},
   "outputs": [
    {
     "name": "stdout",
     "output_type": "stream",
     "text": [
      "ProductData(url='https://fragrancewholesale.co.uk//collections/chatler/products/002-woman-eau-de-parfum-5-x-30ml-plus-1-free-tester', product_info={'name': '002 Woman Eau De Parfum 5 x 30ml Plus 1 free tester', 'price': '£8.95', 'description': <div class=\"description rte\" itemprop=\"description\">\n",
      "<meta charset=\"utf-8\"/>\n",
      "<p data-mce-fragment=\"1\"><span data-mce-fragment=\"1\">Intoxicating rum distilled from sugarcane and aged in oak barrels, combines with exotic passion fruit in a fragrance filled with energy and glamour.</span></p>\n",
      "<p data-mce-fragment=\"1\"><span data-mce-fragment=\"1\">Top Notes: Passion Fruit, Rum<br data-mce-fragment=\"1\"/><br data-mce-fragment=\"1\"/>Heart Notes: Musk, Gardenia<br data-mce-fragment=\"1\"/><br data-mce-fragment=\"1\"/>Base Notes: Tonka Bean, Vanilla</span></p>\n",
      "</div>}, raw_text_response='')\n"
     ]
    },
    {
     "ename": "TypeError",
     "evalue": "'ProductData' object is not iterable",
     "output_type": "error",
     "traceback": [
      "\u001b[1;31m---------------------------------------------------------------------------\u001b[0m",
      "\u001b[1;31mTypeError\u001b[0m                                 Traceback (most recent call last)",
      "Cell \u001b[1;32mIn[9], line 3\u001b[0m\n\u001b[0;32m      1\u001b[0m \u001b[38;5;28;01mfor\u001b[39;00m i \u001b[38;5;129;01min\u001b[39;00m a:\n\u001b[0;32m      2\u001b[0m     \u001b[38;5;28mprint\u001b[39m(i)\n\u001b[1;32m----> 3\u001b[0m     \u001b[43msave_to_database\u001b[49m\u001b[43m(\u001b[49m\u001b[43mi\u001b[49m\u001b[43m,\u001b[49m\u001b[38;5;124;43m'\u001b[39;49m\u001b[38;5;124;43mproducts.db\u001b[39;49m\u001b[38;5;124;43m'\u001b[39;49m\u001b[43m)\u001b[49m\n",
      "Cell \u001b[1;32mIn[8], line 22\u001b[0m, in \u001b[0;36msave_to_database\u001b[1;34m(generator, database_path)\u001b[0m\n\u001b[0;32m     19\u001b[0m connection \u001b[38;5;241m=\u001b[39m sqlite3\u001b[38;5;241m.\u001b[39mconnect(database_path)\n\u001b[0;32m     20\u001b[0m cursor \u001b[38;5;241m=\u001b[39m connection\u001b[38;5;241m.\u001b[39mcursor()\n\u001b[1;32m---> 22\u001b[0m \u001b[43m\u001b[49m\u001b[38;5;28;43;01mfor\u001b[39;49;00m\u001b[43m \u001b[49m\u001b[43mproduct_data\u001b[49m\u001b[43m \u001b[49m\u001b[38;5;129;43;01min\u001b[39;49;00m\u001b[43m \u001b[49m\u001b[43mgenerator\u001b[49m\u001b[43m:\u001b[49m\n\u001b[0;32m     23\u001b[0m \u001b[43m    \u001b[49m\u001b[38;5;66;43;03m# Generate CREATE TABLE SQL statement based on the keys of product_info\u001b[39;49;00m\n\u001b[0;32m     24\u001b[0m \u001b[43m    \u001b[49m\u001b[43mcreate_table_sql\u001b[49m\u001b[43m \u001b[49m\u001b[38;5;241;43m=\u001b[39;49m\u001b[43m \u001b[49m\u001b[43mgenerate_table_sql\u001b[49m\u001b[43m(\u001b[49m\u001b[43mproduct_data\u001b[49m\u001b[43m)\u001b[49m\n\u001b[0;32m     25\u001b[0m \u001b[43m    \u001b[49m\u001b[43mcursor\u001b[49m\u001b[38;5;241;43m.\u001b[39;49m\u001b[43mexecute\u001b[49m\u001b[43m(\u001b[49m\u001b[43mcreate_table_sql\u001b[49m\u001b[43m)\u001b[49m\n",
      "\u001b[1;31mTypeError\u001b[0m: 'ProductData' object is not iterable"
     ]
    }
   ],
   "source": [
    "save_to_database(a,'products.db')"
   ]
  }
 ],
 "metadata": {
  "kernelspec": {
   "display_name": ".venv",
   "language": "python",
   "name": "python3"
  },
  "language_info": {
   "codemirror_mode": {
    "name": "ipython",
    "version": 3
   },
   "file_extension": ".py",
   "mimetype": "text/x-python",
   "name": "python",
   "nbconvert_exporter": "python",
   "pygments_lexer": "ipython3",
   "version": "3.11.4"
  }
 },
 "nbformat": 4,
 "nbformat_minor": 2
}
